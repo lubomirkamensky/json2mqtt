{
 "cells": [
  {
   "cell_type": "code",
   "execution_count": 1,
   "metadata": {},
   "outputs": [
    {
     "name": "stdout",
     "output_type": "stream",
     "text": [
      "286 135 410 830\n"
     ]
    }
   ],
   "source": [
    "import json\n",
    "from urllib import request\n",
    "source = request.urlopen(\"http://192.168.88.189/current-sample\",timeout=5)\n",
    "dataSet = json.loads(source.read())\n",
    "\n",
    "PHASE_A_CONSUMPTION = dataSet['channels'][0]['p_W']\n",
    "PHASE_B_CONSUMPTION = dataSet['channels'][1]['p_W']\n",
    "PHASE_C_CONSUMPTION = dataSet['channels'][2]['p_W']\n",
    "CONSUMPTION = dataSet['channels'][3]['p_W']\n",
    "\n",
    "print(PHASE_A_CONSUMPTION,PHASE_B_CONSUMPTION,PHASE_C_CONSUMPTION,CONSUMPTION)"
   ]
  },
  {
   "cell_type": "code",
   "execution_count": 2,
   "metadata": {},
   "outputs": [
    {
     "name": "stdout",
     "output_type": "stream",
     "text": [
      "11.722222222222223 97.0 11.277777777777777 17.388888888888886 68.6 1017.3051194899999 503.8 4.52225664 3.4118092800000004 76\n",
      "11.72 97.0 11.28 17.39 68.6 1017.31 503.8 4.52 3.41 76\n"
     ]
    }
   ],
   "source": [
    "import json\n",
    "from urllib import request\n",
    "source = request.urlopen(\"http://192.168.88.61/v1/current_conditions\",timeout=5)\n",
    "dataSet = json.loads(source.read())\n",
    "\n",
    "temp_c = (dataSet['data']['conditions'][0]['temp']- 32)/1.8\n",
    "hum = dataSet['data']['conditions'][0]['hum']\n",
    "dew_point_c = (dataSet['data']['conditions'][0]['dew_point']- 32)/1.8\n",
    "temp_in_c = (dataSet['data']['conditions'][1]['temp_in']- 32)/1.8\n",
    "hum_in = dataSet['data']['conditions'][1]['hum_in']\n",
    "bar_sea_level_hpa = dataSet['data']['conditions'][2]['bar_sea_level'] * 33.86389\n",
    "rainfall_year_mm = dataSet['data']['conditions'][0]['rainfall_year'] * 0.2\n",
    "wind_speed_hi_last_2_min_km_h = dataSet['data']['conditions'][0]['wind_speed_hi_last_2_min'] * 1.609344\n",
    "wind_speed_avg_last_2_min_km_h = dataSet['data']['conditions'][0]['wind_speed_avg_last_2_min'] * 1.609344\n",
    "wind_dir_scalar_avg_last_2_min = dataSet['data']['conditions'][0]['wind_dir_scalar_avg_last_2_min']\n",
    "\n",
    "print(temp_c,hum,dew_point_c,temp_in_c,hum_in,bar_sea_level_hpa,rainfall_year_mm,wind_speed_hi_last_2_min_km_h,\n",
    "      wind_speed_avg_last_2_min_km_h,wind_dir_scalar_avg_last_2_min)\n",
    "\n",
    "print(round(temp_c,2),round(hum,2),round(dew_point_c,2),round(temp_in_c,2),round(hum_in,2),round(bar_sea_level_hpa,2)\n",
    "      ,round(rainfall_year_mm,2),round(wind_speed_hi_last_2_min_km_h,2),round(wind_speed_avg_last_2_min_km_h,2)\n",
    "      ,round(wind_dir_scalar_avg_last_2_min,2))"
   ]
  },
  {
   "cell_type": "code",
   "execution_count": null,
   "metadata": {},
   "outputs": [],
   "source": []
  }
 ],
 "metadata": {
  "kernelspec": {
   "display_name": "Python 3",
   "language": "python",
   "name": "python3"
  },
  "language_info": {
   "codemirror_mode": {
    "name": "ipython",
    "version": 3
   },
   "file_extension": ".py",
   "mimetype": "text/x-python",
   "name": "python",
   "nbconvert_exporter": "python",
   "pygments_lexer": "ipython3",
   "version": "3.8.6"
  }
 },
 "nbformat": 4,
 "nbformat_minor": 4
}
